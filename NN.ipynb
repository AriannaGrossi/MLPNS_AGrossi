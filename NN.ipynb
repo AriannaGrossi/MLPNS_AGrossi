{
  "nbformat": 4,
  "nbformat_minor": 0,
  "metadata": {
    "colab": {
      "provenance": [],
      "authorship_tag": "ABX9TyNRU4I0qF99Hq1z/rum15E8",
      "include_colab_link": true
    },
    "kernelspec": {
      "name": "python3",
      "display_name": "Python 3"
    },
    "language_info": {
      "name": "python"
    }
  },
  "cells": [
    {
      "cell_type": "markdown",
      "metadata": {
        "id": "view-in-github",
        "colab_type": "text"
      },
      "source": [
        "<a href=\"https://colab.research.google.com/github/AriannaGrossi/MLPNS_AGrossi/blob/main/NN.ipynb\" target=\"_parent\"><img src=\"https://colab.research.google.com/assets/colab-badge.svg\" alt=\"Open In Colab\"/></a>"
      ]
    },
    {
      "cell_type": "code",
      "execution_count": 1,
      "metadata": {
        "id": "HtwO5_gCKU4Q"
      },
      "outputs": [],
      "source": [
        "import numpy as np\n",
        "import pylab as pl"
      ]
    },
    {
      "cell_type": "code",
      "source": [
        "#preso da https://iamtrask.github.io/2015/07/12/basic-python-network/"
      ],
      "metadata": {
        "id": "UG0dYDUMKb7i"
      },
      "execution_count": null,
      "outputs": []
    },
    {
      "cell_type": "code",
      "source": [
        "X=np.array(\n",
        "    [[0,0,1],\n",
        "     [1,1,1],\n",
        "     [1,0,1],\n",
        "     [0,1,1]])"
      ],
      "metadata": {
        "id": "_n7Ex4CmKiAb"
      },
      "execution_count": 2,
      "outputs": []
    },
    {
      "cell_type": "code",
      "source": [
        "pl.imshow(X)\n",
        "pl.axis(\"off\")"
      ],
      "metadata": {
        "colab": {
          "base_uri": "https://localhost:8080/",
          "height": 423
        },
        "id": "pNvJPdI9Kh9D",
        "outputId": "d48bc102-d9ca-4d8d-b2be-ae46a1330d4d"
      },
      "execution_count": 3,
      "outputs": [
        {
          "output_type": "execute_result",
          "data": {
            "text/plain": [
              "(-0.5, 2.5, 3.5, -0.5)"
            ]
          },
          "metadata": {},
          "execution_count": 3
        },
        {
          "output_type": "display_data",
          "data": {
            "text/plain": [
              "<Figure size 640x480 with 1 Axes>"
            ],
            "image/png": "[encoded data removed]"
          },
          "metadata": {}
        }
      ]
    },
    {
      "cell_type": "code",
      "source": [
        "y=np.array([[0,1,1,0]]).T\n",
        "y"
      ],
      "metadata": {
        "colab": {
          "base_uri": "https://localhost:8080/"
        },
        "id": "seQaVGC-Kh6P",
        "outputId": "cecb5510-c41f-418f-dc82-a96b8e797875"
      },
      "execution_count": 4,
      "outputs": [
        {
          "output_type": "execute_result",
          "data": {
            "text/plain": [
              "array([[0],\n",
              "       [1],\n",
              "       [1],\n",
              "       [0]])"
            ]
          },
          "metadata": {},
          "execution_count": 4
        }
      ]
    },
    {
      "cell_type": "code",
      "source": [
        "y.shape"
      ],
      "metadata": {
        "colab": {
          "base_uri": "https://localhost:8080/"
        },
        "id": "PXHmc1qBKh3s",
        "outputId": "c3d14fe8-d518-4996-b0cd-1be48062b4b3"
      },
      "execution_count": 5,
      "outputs": [
        {
          "output_type": "execute_result",
          "data": {
            "text/plain": [
              "(4, 1)"
            ]
          },
          "metadata": {},
          "execution_count": 5
        }
      ]
    },
    {
      "cell_type": "code",
      "source": [
        "print(\"input\\n\", X)\n",
        "print(\"output\\n\", y)"
      ],
      "metadata": {
        "colab": {
          "base_uri": "https://localhost:8080/"
        },
        "id": "NC1X76HeKh0_",
        "outputId": "d9add0bd-8917-4f1d-bc33-a358d6ff76f1"
      },
      "execution_count": 6,
      "outputs": [
        {
          "output_type": "stream",
          "name": "stdout",
          "text": [
            "input\n",
            " [[0 0 1]\n",
            " [1 1 1]\n",
            " [1 0 1]\n",
            " [0 1 1]]\n",
            "output\n",
            " [[0]\n",
            " [1]\n",
            " [1]\n",
            " [0]]\n"
          ]
        }
      ]
    },
    {
      "cell_type": "markdown",
      "source": [
        "#Basic architecture: 1 layer\n",
        "4 osservazioni\n",
        "\n",
        "3 neuroni\n",
        "\n",
        "1 layer"
      ],
      "metadata": {
        "id": "mZVhiBOlLp5G"
      }
    },
    {
      "cell_type": "code",
      "source": [
        "#activation function\n",
        "def sigmoid(x):\n",
        "  return 1./(1.+np.exp(-x))\n"
      ],
      "metadata": {
        "id": "GZeyIJsvKhyP"
      },
      "execution_count": 7,
      "outputs": []
    },
    {
      "cell_type": "code",
      "source": [
        "pl.plot(sigmoid(np.arange(-10,10,0.1)))"
      ],
      "metadata": {
        "colab": {
          "base_uri": "https://localhost:8080/",
          "height": 447
        },
        "id": "DQaylUJ-Khvy",
        "outputId": "9d619bf1-1ba2-4e5f-d499-94b6e8729d33"
      },
      "execution_count": 8,
      "outputs": [
        {
          "output_type": "execute_result",
          "data": {
            "text/plain": [
              "[<matplotlib.lines.Line2D at 0x7f7a3cfd1700>]"
            ]
          },
          "metadata": {},
          "execution_count": 8
        },
        {
          "output_type": "display_data",
          "data": {
            "text/plain": [
              "<Figure size 640x480 with 1 Axes>"
            ],
            "image/png": "[encoded data removed]"
          },
          "metadata": {}
        }
      ]
    },
    {
      "cell_type": "code",
      "source": [
        "#loss function\n",
        "def loss(prediction, target):\n",
        "  return target-prediction"
      ],
      "metadata": {
        "id": "dMQEKfybKhtG"
      },
      "execution_count": 9,
      "outputs": []
    },
    {
      "cell_type": "code",
      "source": [
        "def dsigmoid(x):\n",
        "  return x*(1.-x)"
      ],
      "metadata": {
        "id": "xk8yW9PhM9zZ"
      },
      "execution_count": 10,
      "outputs": []
    },
    {
      "cell_type": "markdown",
      "source": [
        "#Neural network"
      ],
      "metadata": {
        "id": "OHsaRjWRMx_r"
      }
    },
    {
      "cell_type": "code",
      "source": [
        "training= 6000"
      ],
      "metadata": {
        "id": "9LW6f5j0Mxmu"
      },
      "execution_count": 11,
      "outputs": []
    },
    {
      "cell_type": "code",
      "source": [
        "#layer of synopses/neurons\n",
        "#4 x 3 \n",
        "np.random.seed(302)\n",
        "syn0= 2*np.random.random((3,1))-1\n",
        "print(syn0)\n",
        "print(syn0.shape)"
      ],
      "metadata": {
        "colab": {
          "base_uri": "https://localhost:8080/"
        },
        "id": "iuTCvkJMKhqm",
        "outputId": "cbabb876-a2de-4934-aa9a-728312c2b1bb"
      },
      "execution_count": 12,
      "outputs": [
        {
          "output_type": "stream",
          "name": "stdout",
          "text": [
            "[[ 0.27256242]\n",
            " [ 0.65008468]\n",
            " [-0.31671053]]\n",
            "(3, 1)\n"
          ]
        }
      ]
    },
    {
      "cell_type": "code",
      "source": [
        "#layer of synopses/neurons\n",
        "#4 x 3 \n",
        "np.random.seed(302)\n",
        "syn0= 2*np.random.random((3,1))-1\n",
        "print(syn0)\n",
        "print(syn0.shape)\n",
        "\n",
        "loss_output=[]\n",
        "\n",
        "for iter in range(training):\n",
        "  inputLayer= X\n",
        "\n",
        "  #forward propagation\n",
        "  #linear regression\n",
        "  l1=np.dot(inputLayer, syn0)\n",
        "\n",
        "  #activation\n",
        "  output= sigmoid(l1)\n",
        "  #calculate error\n",
        "  output_error=loss(output, y)\n",
        "  loss_output.append(np.abs(output_error).sum())\n",
        "  #calculate correction\n",
        "  output_delta=output_error*dsigmoid(output)\n",
        "  #apply correction to weights\n",
        "  syn0 += np.dot(inputLayer.T, output_delta)\n",
        "\n",
        "print(\"output after training\", output)\n",
        "print(\"output target\\n\", y)"
      ],
      "metadata": {
        "colab": {
          "base_uri": "https://localhost:8080/"
        },
        "id": "4i0nIYH-Khle",
        "outputId": "dc57b352-6223-455d-f203-759d80eafbb7"
      },
      "execution_count": 13,
      "outputs": [
        {
          "output_type": "stream",
          "name": "stdout",
          "text": [
            "[[ 0.27256242]\n",
            " [ 0.65008468]\n",
            " [-0.31671053]]\n",
            "(3, 1)\n",
            "output after training [[0.01254551]\n",
            " [0.98977455]\n",
            " [0.99169035]\n",
            " [0.0101995 ]]\n",
            "output target\n",
            " [[0]\n",
            " [1]\n",
            " [1]\n",
            " [0]]\n"
          ]
        }
      ]
    },
    {
      "cell_type": "code",
      "source": [
        "pl.plot(loss_output, label=\"output\")\n",
        "pl.legend()\n",
        "pl.xlabel(\"iteration (epoch)\")\n",
        "pl.ylabel(\"global loss\")"
      ],
      "metadata": {
        "colab": {
          "base_uri": "https://localhost:8080/",
          "height": 466
        },
        "id": "jK80Ol01KhhH",
        "outputId": "d87ec235-7107-4f00-8d63-7394c7cdd18e"
      },
      "execution_count": 14,
      "outputs": [
        {
          "output_type": "execute_result",
          "data": {
            "text/plain": [
              "Text(0, 0.5, 'global loss')"
            ]
          },
          "metadata": {},
          "execution_count": 14
        },
        {
          "output_type": "display_data",
          "data": {
            "text/plain": [
              "<Figure size 640x480 with 1 Axes>"
            ],
            "image/png": "[encoded data removed]"
          },
          "metadata": {}
        }
      ]
    },
    {
      "cell_type": "markdown",
      "source": [
        "#Due hidden layers"
      ],
      "metadata": {
        "id": "YCWe0Tfeq2ax"
      }
    },
    {
      "cell_type": "code",
      "source": [
        "syn0 = 2* np.random.random((3,5)) -1 \n",
        "\n",
        "syn1 = 2* np.random.random((5,1)) -1\n",
        "\n",
        "\n",
        "\n",
        "loss_output = []\n",
        "loss_hidden = []\n",
        "\n",
        "for iter in range(training):\n",
        "  input_layer = X \n",
        "  l1 = np.dot(input_layer,syn0)\n",
        "  hidden =sigmoid(l1)\n",
        "  \n",
        "  hidden_error=loss(hidden,y)\n",
        "  loss_hidden.append(np.abs(hidden_error).sum())\n",
        "\n",
        "  l2=np.dot(hidden,syn1)\n",
        "\n",
        "  \n",
        "  output = sigmoid(l2)\n",
        "  output_error = loss(output,y)\n",
        "  loss_output.append(np.abs(output_error).sum())\n",
        "\n",
        "\n",
        "\n",
        "  #calcolo la correzione\n",
        "  output_delta = output_error * dsigmoid(output) \n",
        "  hidden_delta = hidden_error * dsigmoid(hidden)\n",
        "  #applico la correzione\n",
        "  syn0 += np.dot(input_layer.T, hidden_delta) \n",
        "  syn1 += np.dot(hidden.T, output_delta)\n",
        "\n",
        "print(\"output after cleanning: \", output)\n",
        "print(\"target: \", y)"
      ],
      "metadata": {
        "colab": {
          "base_uri": "https://localhost:8080/"
        },
        "id": "eLB80FwpKhaq",
        "outputId": "c2f83178-d713-4fee-f726-f35958d78eda"
      },
      "execution_count": 15,
      "outputs": [
        {
          "output_type": "stream",
          "name": "stdout",
          "text": [
            "output after cleanning:  [[0.510144  ]\n",
            " [0.9608267 ]\n",
            " [0.96106004]\n",
            " [0.50824105]]\n",
            "target:  [[0]\n",
            " [1]\n",
            " [1]\n",
            " [0]]\n"
          ]
        }
      ]
    },
    {
      "cell_type": "code",
      "source": [
        "pl.plot(loss_output, label=\"output\")\n",
        "pl.plot(loss_hidden, label=\"Hidden\")\n",
        "pl.plot()\n",
        "pl.legend()\n",
        "pl.xlabel(\"Iteration(epoch)\")\n",
        "pl.ylabel(\"Global Loss\")"
      ],
      "metadata": {
        "colab": {
          "base_uri": "https://localhost:8080/",
          "height": 466
        },
        "id": "fV-XvTgwq7l_",
        "outputId": "a49bf0df-5d81-4882-f7ab-baaa3e2b87cc"
      },
      "execution_count": 16,
      "outputs": [
        {
          "output_type": "execute_result",
          "data": {
            "text/plain": [
              "Text(0, 0.5, 'Global Loss')"
            ]
          },
          "metadata": {},
          "execution_count": 16
        },
        {
          "output_type": "display_data",
          "data": {
            "text/plain": [
              "<Figure size 640x480 with 1 Axes>"
            ],
            "image/png": "[encoded data removed]"
          },
          "metadata": {}
        }
      ]
    }
  ]
}