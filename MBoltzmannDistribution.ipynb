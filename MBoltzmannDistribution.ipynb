{
  "nbformat": 4,
  "nbformat_minor": 0,
  "metadata": {
    "colab": {
      "provenance": [],
      "include_colab_link": true
    },
    "kernelspec": {
      "display_name": "Python 3",
      "language": "python",
      "name": "python3"
    },
    "language_info": {
      "codemirror_mode": {
        "name": "ipython",
        "version": 3
      },
      "file_extension": ".py",
      "mimetype": "text/x-python",
      "name": "python",
      "nbconvert_exporter": "python",
      "pygments_lexer": "ipython3",
      "version": "3.7.3"
    },
    "latex_envs": {
      "LaTeX_envs_menu_present": true,
      "autoclose": false,
      "autocomplete": true,
      "bibliofile": "biblio.bib",
      "cite_by": "apalike",
      "current_citInitial": 1,
      "eqLabelWithNumbers": true,
      "eqNumInitial": 1,
      "hotkeys": {
        "equation": "Ctrl-E",
        "itemize": "Ctrl-I"
      },
      "labels_anchors": false,
      "latex_user_defs": false,
      "report_style_numbering": false,
      "user_envs_cfg": false
    },
    "nbTranslate": {
      "displayLangs": [
        "*"
      ],
      "hotkey": "alt-t",
      "langInMainMenu": true,
      "sourceLang": "en",
      "targetLang": "fr",
      "useGoogleTranslate": true
    },
    "toc": {
      "base_numbering": 1,
      "nav_menu": {},
      "number_sections": true,
      "sideBar": true,
      "skip_h1_title": false,
      "title_cell": "Table of Contents",
      "title_sidebar": "Contents",
      "toc_cell": false,
      "toc_position": {},
      "toc_section_display": true,
      "toc_window_display": false
    },
    "gpuClass": "standard"
  },
  "cells": [
    {
      "cell_type": "markdown",
      "metadata": {
        "id": "view-in-github",
        "colab_type": "text"
      },
      "source": [
        "<a href=\"https://colab.research.google.com/github/AriannaGrossi/MLPNS_AGrossi/blob/main/MBoltzmannDistribution.ipynb\" target=\"_parent\"><img src=\"https://colab.research.google.com/assets/colab-badge.svg\" alt=\"Open In Colab\"/></a>"
      ]
    },
    {
      "cell_type": "code",
      "metadata": {
        "ExecuteTime": {
          "end_time": "2019-09-07T17:36:53.625807Z",
          "start_time": "2019-09-07T17:36:53.393906Z"
        },
        "colab": {
          "base_uri": "https://localhost:8080/"
        },
        "id": "iQaonMUBqtX2",
        "outputId": "16a95d50-d82b-4004-861c-0ca657dddadf"
      },
      "source": [
        "from __future__ import print_function, division #garantisce la compatibilità di alcune funzioni tra python2 e python 3(future)\n",
        "#in Python2 la funzione print non richiedeva le parentesi (print \"Hello world\")\n",
        "#In Python2 la divisione?\n",
        "import numpy as np\n",
        "import scipy as sp #pacchetto per creare distribuzioni\n",
        "from scipy import stats #sottopacchetto del pacchetto scipy sempre per fare statistica\n",
        "import pylab as pl #pacchetto per creare plots\n",
        "%pylab inline \n",
        "#non serve su colab, ma serve se trasferissimo il codice su una piattaforma diversa\n",
        "#pl.style.use(\"https://raw.githubusercontent.com/fedhere/DSPS_FBianco/master/fbb.mplstyle\")\n",
        "\n"
      ],
      "execution_count": 1,
      "outputs": [
        {
          "output_type": "stream",
          "name": "stdout",
          "text": [
            "Populating the interactive namespace from numpy and matplotlib\n"
          ]
        }
      ]
    },
    {
      "cell_type": "markdown",
      "metadata": {
        "id": "zu5QKDi5b7vW"
      },
      "source": [
        "#La distribuzione di Maxwell-Boltzmann\n",
        "(Modello statistico ideato da Ludwig Boltzmann e James Clerk Maxwell nel 1800)"
      ]
    },
    {
      "cell_type": "markdown",
      "metadata": {
        "id": "ueaB0mHCO_iM"
      },
      "source": [
        "Conoscendo le proprietà microscopiche di un sistema fisico (intese in senso statistico), possiamo sfruttare la statistica per descrivere il comportamento macroscopico di tale sistema.\n",
        "\n",
        "Considerando un sistema costituito da un gas, ovviamente non possiamo conoscere e descrivere il moto microscopico di ogni particella di tale sistema, ma conosciamo la distribuzione delle probabilità delle velocità delle particelle del sistema, nota come **distribuzione di Maxwell-Boltzmann**.  \n",
        "\n",
        "**$P(v) = 4 \\pi \\left( \\frac{m}{2 \\pi T}\\right)^{3/2} v^2 e^{- m v^2 /2 T}$** \n",
        "\n",
        "Ricordiamo che la velocità delle particelle di un gas (ossia una proprietà microscopica del sistema) dipende dalla temperatura alla quale si trova il gas (ossia una proprietà macroscopica del sistema): ciò significa che la velocità delle particelle di un gas varierà al variare della temperatura alla quale si trova il gas. \n",
        "\n",
        "Notiamo che la distribuzione di Maxwell-Boltzmann è un caso particolare di un'altra distribuzione di probabilità, ossia la distribuzione Chi\n",
        " ([*Chi distribution*](https://en.wikipedia.org/wiki/Chi_distribution)), la quale è caratterizzata dal solo parametro $k$, il quale indica il numero di gradi di libertà del sistema considerato.\n",
        "\n",
        "**$f(x;k) = \\begin{cases}\n",
        "\\dfrac{x^{k-1}e^{-x^2/2}}{2^{k/2-1}\\Gamma\\left(\\frac{k}{2}\\right)}, & x\\geq 0 \\\\ 0 & \\text{altrove}\n",
        "\\end{cases}$**\n",
        " \n",
        " with 3 degrees of freedom, and with a scale parameter corresponding to the temperature in some way. \n"
      ]
    },
    {
      "cell_type": "markdown",
      "metadata": {
        "id": "Pc25lN9SUxQL"
      },
      "source": [
        "Below I have created 3 distributions. \n",
        "\n",
        "\n",
        "# 1)Inserire le etichette (labels) agli assi del plot"
      ]
    },
    {
      "cell_type": "code",
      "source": [
        "sp.stats.chi?\n",
        "#rvs method: random_state=None per la riproducibilità del codice"
      ],
      "metadata": {
        "id": "bZYUqs5_E9YN"
      },
      "execution_count": 2,
      "outputs": []
    },
    {
      "cell_type": "code",
      "metadata": {
        "ExecuteTime": {
          "end_time": "2019-09-07T17:36:56.493299Z",
          "start_time": "2019-09-07T17:36:56.021862Z"
        },
        "colab": {
          "base_uri": "https://localhost:8080/",
          "height": 300
        },
        "id": "LZm2afzhUwuG",
        "outputId": "83f07266-8bfd-496a-8ecd-40356e1215b3"
      },
      "source": [
        "np.random.randn(123)\n",
        "fig, ax = pl.subplots()\n",
        "for a in [0.2, 0.6, 1.0]:\n",
        "    ax.hist(sp.stats.chi.rvs(df=3, scale=a, size=1000), # could as well be sp.stats.maxwell.rvs(scale=a, size=1000)\n",
        "          bins=np.arange(0,5,0.1), alpha=0.7,\n",
        "       label=\"a = %.1f\"%a);\n",
        "\n",
        "pl.legend();\n",
        "pl.xlabel(\"Velocità delle particelle [m/s]\")\n",
        "pl.ylabel(\"Numero delle particelle nella simulazione\")\n",
        "#lo scale parameter è legato alla temperatura"
      ],
      "execution_count": 3,
      "outputs": [
        {
          "output_type": "execute_result",
          "data": {
            "text/plain": [
              "Text(0, 0.5, 'Numero delle particelle nella simulazione')"
            ]
          },
          "metadata": {},
          "execution_count": 3
        },
        {
          "output_type": "display_data",
          "data": {
            "text/plain": [
              "<Figure size 432x288 with 1 Axes>"
            ],
            "image/png": "[encoded data removed]"
          },
          "metadata": {
            "needs_background": "light"
          }
        }
      ]
    },
    {
      "cell_type": "code",
      "source": [
        "sp.stats.chi.rvs(df=3, scale=1.0, size=1000).mean()"
      ],
      "metadata": {
        "colab": {
          "base_uri": "https://localhost:8080/"
        },
        "id": "SPa6-LrmIFc-",
        "outputId": "4cfced8f-c86f-4a87-bc8a-6dfe15e923e8"
      },
      "execution_count": 4,
      "outputs": [
        {
          "output_type": "execute_result",
          "data": {
            "text/plain": [
              "1.6330878557055912"
            ]
          },
          "metadata": {},
          "execution_count": 4
        }
      ]
    },
    {
      "cell_type": "markdown",
      "metadata": {
        "id": "MGdILsLAaopl"
      },
      "source": [
        "#2) Sapendo che il parametro di scala $a$ è una funzione della temperatura T del gas,  which is correct:\n",
        "   **$a \\propto \\sqrt{T}$**  or **$a \\propto \\sqrt{1/T}$**? \n",
        "\n",
        "   (in other words, is the dependency on the root of the temperature or on the inverse root of the temperature ?)\n",
        " "
      ]
    },
    {
      "cell_type": "markdown",
      "metadata": {
        "id": "vMGhorbvcrFM"
      },
      "source": [
        "Risposta: **$\\sqrt{T}$**"
      ]
    },
    {
      "cell_type": "markdown",
      "metadata": {
        "id": "hGeeXYttXLO1"
      },
      "source": [
        "\n",
        "# 3) What is the mean of all three distributions. How does it compare to the most probable molecular speed? \n",
        "From the wikipedia page of the Chi distribution find the formula of the mean of the Chi distribution. The distribution we are using has a scale parameter *a* in addition to the number of degrees of freedom. The mean scales linearly with this parameter:\n",
        "\n",
        "$\\mu_{\\mathrm{MB}, k, a} = a \\cdot \\mu_{\\mathrm{chi}, k}$\n",
        "\n",
        "\n",
        "**calculate the mean of all three distributions. Compare it with the mean of the empirical distributions I generated in step 1. How does this mean compare to the most probable molecular speed.**"
      ]
    },
    {
      "cell_type": "code",
      "source": [
        "def meanCHI2(a, k=3):\n",
        "  \"\"\"\n",
        "  funzione per calcolare medie della distribuzione\n",
        "  Maxwell-Boltzmann dati i parametro a e k\n",
        "  Input:\n",
        "  a: (float of int) parametro di scala della distribuzione MB\n",
        "  k: (int) gradi di libertà per la distribuzione del chi quadro\n",
        "  Return:\n",
        "  media della distribuzione\n",
        "  \"\"\"\n",
        "  return a*(np.sqrt(2)*sp.special.gamma((k + 1)* 0.5)/sp.special.gamma(k/2))\n",
        "  #sp.special.gamma() funzione, contenuta nel pacchetto scipy, che calcola la \n",
        "  #funzione gamma \n",
        "def meanMB(a):\n",
        "  \"\"\"\n",
        "  funzione per calcolare medie della distribuzione\n",
        "  Maxwell-Boltzmann dato il parametro a\n",
        "  Input:\n",
        "  a: (float of int) parametro di scala della distribuzione MB \n",
        "  Return:\n",
        "  media della distribuzione\n",
        "  \"\"\"\n",
        "  return 2* a * np.sqrt(2 / np.pi)\n",
        "for a in [0.2, 0.6, 1.0]:\n",
        "  print(\"from theoretical formula: {0:.2f}\".format(meanMB(a)))\n",
        "  print(\"from theoretical formula for CHI: {0:.2f}\".format(meanCHI2(a, k=3)))\n",
        "  print(\"from distribution formula: {0:.2f}\".format(sp.stats.chi.rvs(df=3, scale=a, size=1000, random_state=323).mean()))"
      ],
      "metadata": {
        "colab": {
          "base_uri": "https://localhost:8080/"
        },
        "id": "pf2FDkqKMnxE",
        "outputId": "ccb9d54d-7469-4998-ec3a-c4899eb795e5"
      },
      "execution_count": 5,
      "outputs": [
        {
          "output_type": "stream",
          "name": "stdout",
          "text": [
            "from theoretical formula: 0.32\n",
            "from theoretical formula for CHI: 0.32\n",
            "from distribution formula: 0.32\n",
            "from theoretical formula: 0.96\n",
            "from theoretical formula for CHI: 0.96\n",
            "from distribution formula: 0.96\n",
            "from theoretical formula: 1.60\n",
            "from theoretical formula for CHI: 1.60\n",
            "from distribution formula: 1.60\n"
          ]
        }
      ]
    },
    {
      "cell_type": "markdown",
      "metadata": {
        "id": "r7oes80EQER-"
      },
      "source": [
        "This really only holds for perfect gasses, which means under 4 assumptions: \n",
        "- the diameter of the molecules is much smaller than the distance between them\n",
        "- the collisions between molecules conserve energy\n",
        "- the molecules do not interact between collisions and are not subject to any other forces (move at constant speed in a straight line)\n",
        "- the initial position and velocity are random."
      ]
    },
    {
      "cell_type": "markdown",
      "metadata": {
        "id": "3PJ9hjLzQjyA"
      },
      "source": [
        "#4)Facoltativo:\n",
        "\n",
        "can you create a python (2D) simulation where the molecules behave as describe and calculate their speed evolution from an initial speed that is gaussian distributed? (rather hard!!)\n"
      ]
    }
  ]
}