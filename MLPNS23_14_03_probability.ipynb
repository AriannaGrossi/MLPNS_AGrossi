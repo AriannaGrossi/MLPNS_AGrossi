{
  "nbformat": 4,
  "nbformat_minor": 0,
  "metadata": {
    "colab": {
      "provenance": [],
      "authorship_tag": "ABX9TyNWQ0a4lBKEgT319TRwETlf",
      "include_colab_link": true
    },
    "kernelspec": {
      "name": "python3",
      "display_name": "Python 3"
    },
    "language_info": {
      "name": "python"
    }
  },
  "cells": [
    {
      "cell_type": "markdown",
      "metadata": {
        "id": "view-in-github",
        "colab_type": "text"
      },
      "source": [
        "<a href=\"https://colab.research.google.com/github/AriannaGrossi/MLPNS_AGrossi/blob/main/MLPNS23_14_03_probability.ipynb\" target=\"_parent\"><img src=\"https://colab.research.google.com/assets/colab-badge.svg\" alt=\"Open In Colab\"/></a>"
      ]
    },
    {
      "cell_type": "code",
      "source": [
        "import pandas as pd\n",
        "import numpy as np\n",
        "import pylab as pl\n",
        "#Importo i pacchetti che mi serviranno per manipolare dati tabulati (pandas),\n",
        "#per manipolare dati numerici (numpy), e per fare plotting (pylab)"
      ],
      "metadata": {
        "id": "iwLz3BkTEXHt"
      },
      "execution_count": 8,
      "outputs": []
    },
    {
      "cell_type": "code",
      "execution_count": 9,
      "metadata": {
        "id": "iYu7vSmwD-vW"
      },
      "outputs": [],
      "source": [
        "url= \"https://bit.ly/videosfile\"\n",
        "#Salvo come contenuto della variabile url una stringa costituita da un link ad un \n",
        "#file.\n",
        "#Conviene sempre aprire il file e analizzarne la struttura, in modo da capire di \n",
        "#che tipo di file si tratti e quindi scegliere la funzione da utilizzare per \n",
        "#leggerlo e visualizzarne il contenuto.\n",
        "#Il file a cui questo link rimanda contiene statistiche sui video di youtube\n",
        "#più visti in America in un certo periodo di tempo."
      ]
    },
    {
      "cell_type": "code",
      "source": [
        "videos=pd.read_csv(url)\n",
        "#In questo caso il link contenuto nella variabile url rimanda ad un file di \n",
        "#formato .csv, per cui posso utilizzare la funzione pd.read_csv() del pacchetto\n",
        "#pandas per leggere e visualizzare il contenuto del file.\n",
        "#Inoltre salvo in memoria il contenuto del file, assegnando alla variabile videos\n",
        "#(che sarà di tipo dataframe) il return value della funzione read_csv applicata\n",
        "#al link del file\n",
        "videos"
      ],
      "metadata": {
        "colab": {
          "base_uri": "https://localhost:8080/",
          "height": 745
        },
        "id": "aj0yMzWYEeVk",
        "outputId": "67c280e6-378c-4e52-9601-30ffbf3a1aea"
      },
      "execution_count": 10,
      "outputs": [
        {
          "output_type": "execute_result",
          "data": {
            "text/plain": [
              "      trending_date                                              title  \\\n",
              "0          17.14.11                 WE WANT TO TALK ABOUT OUR MARRIAGE   \n",
              "1          17.14.11  The Trump Presidency: Last Week Tonight with J...   \n",
              "2          17.14.11  Racist Superman | Rudy Mancuso, King Bach & Le...   \n",
              "3          17.14.11                   Nickelback Lyrics: Real or Fake?   \n",
              "4          17.14.11                           I Dare You: GOING BALD!?   \n",
              "...             ...                                                ...   \n",
              "40944      18.14.06                       The Cat Who Caught the Laser   \n",
              "40945      18.14.06                         True Facts : Ant Mutualism   \n",
              "40946      18.14.06  I GAVE SAFIYA NYGAARD A PERFECT HAIR MAKEOVER ...   \n",
              "40947      18.14.06                How Black Panther Should Have Ended   \n",
              "40948      18.14.06  Official Call of Duty®: Black Ops 4 — Multipla...   \n",
              "\n",
              "                  channel_title  category_id              publish_time  \\\n",
              "0                  CaseyNeistat           22  2017-11-13T17:13:01.000Z   \n",
              "1               LastWeekTonight           24  2017-11-13T07:30:00.000Z   \n",
              "2                  Rudy Mancuso           23  2017-11-12T19:05:24.000Z   \n",
              "3         Good Mythical Morning           24  2017-11-13T11:00:04.000Z   \n",
              "4                      nigahiga           24  2017-11-12T18:01:41.000Z   \n",
              "...                         ...          ...                       ...   \n",
              "40944             AaronsAnimals           15  2018-05-18T13:00:04.000Z   \n",
              "40945                  zefrank1           22  2018-05-18T01:00:06.000Z   \n",
              "40946                Brad Mondo           24  2018-05-18T17:34:22.000Z   \n",
              "40947  How It Should Have Ended            1  2018-05-17T17:00:04.000Z   \n",
              "40948              Call of Duty           20  2018-05-17T17:09:38.000Z   \n",
              "\n",
              "                                                    tags     views   likes  \\\n",
              "0                                        SHANtell martin    748374   57527   \n",
              "1      last week tonight trump presidency|\"last week ...   2418783   97185   \n",
              "2      racist superman|\"rudy\"|\"mancuso\"|\"king\"|\"bach\"...   3191434  146033   \n",
              "3      rhett and link|\"gmm\"|\"good mythical morning\"|\"...    343168   10172   \n",
              "4      ryan|\"higa\"|\"higatv\"|\"nigahiga\"|\"i dare you\"|\"...   2095731  132235   \n",
              "...                                                  ...       ...     ...   \n",
              "40944  aarons animals|\"aarons\"|\"animals\"|\"cat\"|\"cats\"...   1685609   38160   \n",
              "40945                                             [none]   1064798   60008   \n",
              "40946  I gave safiya nygaard a perfect hair makeover ...   1066451   48068   \n",
              "40947  Black Panther|\"HISHE\"|\"Marvel\"|\"Infinity War\"|...   5660813  192957   \n",
              "40948      call of duty|\"cod\"|\"activision\"|\"Black Ops 4\"  10306119  357079   \n",
              "\n",
              "       dislikes  comment_count  \n",
              "0          2966          15954  \n",
              "1          6146          12703  \n",
              "2          5339           8181  \n",
              "3           666           2146  \n",
              "4          1989          17518  \n",
              "...         ...            ...  \n",
              "40944      1385           2657  \n",
              "40945       382           3936  \n",
              "40946      1032           3992  \n",
              "40947      2846          13088  \n",
              "40948    212976         144795  \n",
              "\n",
              "[40949 rows x 10 columns]"
            ],
            "text/html": [
              "\n",
              "  <div id=\"df-ed5938b3-0971-4126-9582-7e2cda2cc80a\">\n",
              "    <div class=\"colab-df-container\">\n",
              "      <div>\n",
              "<style scoped>\n",
              "    .dataframe tbody tr th:only-of-type {\n",
              "        vertical-align: middle;\n",
              "    }\n",
              "\n",
              "    .dataframe tbody tr th {\n",
              "        vertical-align: top;\n",
              "    }\n",
              "\n",
              "    .dataframe thead th {\n",
              "        text-align: right;\n",
              "    }\n",
              "</style>\n",
              "<table border=\"1\" class=\"dataframe\">\n",
              "  <thead>\n",
              "    <tr style=\"text-align: right;\">\n",
              "      <th></th>\n",
              "      <th>trending_date</th>\n",
              "      <th>title</th>\n",
              "      <th>channel_title</th>\n",
              "      <th>category_id</th>\n",
              "      <th>publish_time</th>\n",
              "      <th>tags</th>\n",
              "      <th>views</th>\n",
              "      <th>likes</th>\n",
              "      <th>dislikes</th>\n",
              "      <th>comment_count</th>\n",
              "    </tr>\n",
              "  </thead>\n",
              "  <tbody>\n",
              "    <tr>\n",
              "      <th>0</th>\n",
              "      <td>17.14.11</td>\n",
              "      <td>WE WANT TO TALK ABOUT OUR MARRIAGE</td>\n",
              "      <td>CaseyNeistat</td>\n",
              "      <td>22</td>\n",
              "      <td>2017-11-13T17:13:01.000Z</td>\n",
              "      <td>SHANtell martin</td>\n",
              "      <td>748374</td>\n",
              "      <td>57527</td>\n",
              "      <td>2966</td>\n",
              "      <td>15954</td>\n",
              "    </tr>\n",
              "    <tr>\n",
              "      <th>1</th>\n",
              "      <td>17.14.11</td>\n",
              "      <td>The Trump Presidency: Last Week Tonight with J...</td>\n",
              "      <td>LastWeekTonight</td>\n",
              "      <td>24</td>\n",
              "      <td>2017-11-13T07:30:00.000Z</td>\n",
              "      <td>last week tonight trump presidency|\"last week ...</td>\n",
              "      <td>2418783</td>\n",
              "      <td>97185</td>\n",
              "      <td>6146</td>\n",
              "      <td>12703</td>\n",
              "    </tr>\n",
              "    <tr>\n",
              "      <th>2</th>\n",
              "      <td>17.14.11</td>\n",
              "      <td>Racist Superman | Rudy Mancuso, King Bach &amp; Le...</td>\n",
              "      <td>Rudy Mancuso</td>\n",
              "      <td>23</td>\n",
              "      <td>2017-11-12T19:05:24.000Z</td>\n",
              "      <td>racist superman|\"rudy\"|\"mancuso\"|\"king\"|\"bach\"...</td>\n",
              "      <td>3191434</td>\n",
              "      <td>146033</td>\n",
              "      <td>5339</td>\n",
              "      <td>8181</td>\n",
              "    </tr>\n",
              "    <tr>\n",
              "      <th>3</th>\n",
              "      <td>17.14.11</td>\n",
              "      <td>Nickelback Lyrics: Real or Fake?</td>\n",
              "      <td>Good Mythical Morning</td>\n",
              "      <td>24</td>\n",
              "      <td>2017-11-13T11:00:04.000Z</td>\n",
              "      <td>rhett and link|\"gmm\"|\"good mythical morning\"|\"...</td>\n",
              "      <td>343168</td>\n",
              "      <td>10172</td>\n",
              "      <td>666</td>\n",
              "      <td>2146</td>\n",
              "    </tr>\n",
              "    <tr>\n",
              "      <th>4</th>\n",
              "      <td>17.14.11</td>\n",
              "      <td>I Dare You: GOING BALD!?</td>\n",
              "      <td>nigahiga</td>\n",
              "      <td>24</td>\n",
              "      <td>2017-11-12T18:01:41.000Z</td>\n",
              "      <td>ryan|\"higa\"|\"higatv\"|\"nigahiga\"|\"i dare you\"|\"...</td>\n",
              "      <td>2095731</td>\n",
              "      <td>132235</td>\n",
              "      <td>1989</td>\n",
              "      <td>17518</td>\n",
              "    </tr>\n",
              "    <tr>\n",
              "      <th>...</th>\n",
              "      <td>...</td>\n",
              "      <td>...</td>\n",
              "      <td>...</td>\n",
              "      <td>...</td>\n",
              "      <td>...</td>\n",
              "      <td>...</td>\n",
              "      <td>...</td>\n",
              "      <td>...</td>\n",
              "      <td>...</td>\n",
              "      <td>...</td>\n",
              "    </tr>\n",
              "    <tr>\n",
              "      <th>40944</th>\n",
              "      <td>18.14.06</td>\n",
              "      <td>The Cat Who Caught the Laser</td>\n",
              "      <td>AaronsAnimals</td>\n",
              "      <td>15</td>\n",
              "      <td>2018-05-18T13:00:04.000Z</td>\n",
              "      <td>aarons animals|\"aarons\"|\"animals\"|\"cat\"|\"cats\"...</td>\n",
              "      <td>1685609</td>\n",
              "      <td>38160</td>\n",
              "      <td>1385</td>\n",
              "      <td>2657</td>\n",
              "    </tr>\n",
              "    <tr>\n",
              "      <th>40945</th>\n",
              "      <td>18.14.06</td>\n",
              "      <td>True Facts : Ant Mutualism</td>\n",
              "      <td>zefrank1</td>\n",
              "      <td>22</td>\n",
              "      <td>2018-05-18T01:00:06.000Z</td>\n",
              "      <td>[none]</td>\n",
              "      <td>1064798</td>\n",
              "      <td>60008</td>\n",
              "      <td>382</td>\n",
              "      <td>3936</td>\n",
              "    </tr>\n",
              "    <tr>\n",
              "      <th>40946</th>\n",
              "      <td>18.14.06</td>\n",
              "      <td>I GAVE SAFIYA NYGAARD A PERFECT HAIR MAKEOVER ...</td>\n",
              "      <td>Brad Mondo</td>\n",
              "      <td>24</td>\n",
              "      <td>2018-05-18T17:34:22.000Z</td>\n",
              "      <td>I gave safiya nygaard a perfect hair makeover ...</td>\n",
              "      <td>1066451</td>\n",
              "      <td>48068</td>\n",
              "      <td>1032</td>\n",
              "      <td>3992</td>\n",
              "    </tr>\n",
              "    <tr>\n",
              "      <th>40947</th>\n",
              "      <td>18.14.06</td>\n",
              "      <td>How Black Panther Should Have Ended</td>\n",
              "      <td>How It Should Have Ended</td>\n",
              "      <td>1</td>\n",
              "      <td>2018-05-17T17:00:04.000Z</td>\n",
              "      <td>Black Panther|\"HISHE\"|\"Marvel\"|\"Infinity War\"|...</td>\n",
              "      <td>5660813</td>\n",
              "      <td>192957</td>\n",
              "      <td>2846</td>\n",
              "      <td>13088</td>\n",
              "    </tr>\n",
              "    <tr>\n",
              "      <th>40948</th>\n",
              "      <td>18.14.06</td>\n",
              "      <td>Official Call of Duty®: Black Ops 4 — Multipla...</td>\n",
              "      <td>Call of Duty</td>\n",
              "      <td>20</td>\n",
              "      <td>2018-05-17T17:09:38.000Z</td>\n",
              "      <td>call of duty|\"cod\"|\"activision\"|\"Black Ops 4\"</td>\n",
              "      <td>10306119</td>\n",
              "      <td>357079</td>\n",
              "      <td>212976</td>\n",
              "      <td>144795</td>\n",
              "    </tr>\n",
              "  </tbody>\n",
              "</table>\n",
              "<p>40949 rows × 10 columns</p>\n",
              "</div>\n",
              "      <button class=\"colab-df-convert\" onclick=\"convertToInteractive('df-ed5938b3-0971-4126-9582-7e2cda2cc80a')\"\n",
              "              title=\"Convert this dataframe to an interactive table.\"\n",
              "              style=\"display:none;\">\n",
              "        \n",
              "  <svg xmlns=\"http://www.w3.org/2000/svg\" height=\"24px\"viewBox=\"0 0 24 24\"\n",
              "       width=\"24px\">\n",
              "    <path d=\"M0 0h24v24H0V0z\" fill=\"none\"/>\n",
              "    <path d=\"M18.56 5.44l.94 2.06.94-2.06 2.06-.94-2.06-.94-.94-2.06-.94 2.06-2.06.94zm-11 1L8.5 8.5l.94-2.06 2.06-.94-2.06-.94L8.5 2.5l-.94 2.06-2.06.94zm10 10l.94 2.06.94-2.06 2.06-.94-2.06-.94-.94-2.06-.94 2.06-2.06.94z\"/><path d=\"M17.41 7.96l-1.37-1.37c-.4-.4-.92-.59-1.43-.59-.52 0-1.04.2-1.43.59L10.3 9.45l-7.72 7.72c-.78.78-.78 2.05 0 2.83L4 21.41c.39.39.9.59 1.41.59.51 0 1.02-.2 1.41-.59l7.78-7.78 2.81-2.81c.8-.78.8-2.07 0-2.86zM5.41 20L4 18.59l7.72-7.72 1.47 1.35L5.41 20z\"/>\n",
              "  </svg>\n",
              "      </button>\n",
              "      \n",
              "  <style>\n",
              "    .colab-df-container {\n",
              "      display:flex;\n",
              "      flex-wrap:wrap;\n",
              "      gap: 12px;\n",
              "    }\n",
              "\n",
              "    .colab-df-convert {\n",
              "      background-color: #E8F0FE;\n",
              "      border: none;\n",
              "      border-radius: 50%;\n",
              "      cursor: pointer;\n",
              "      display: none;\n",
              "      fill: #1967D2;\n",
              "      height: 32px;\n",
              "      padding: 0 0 0 0;\n",
              "      width: 32px;\n",
              "    }\n",
              "\n",
              "    .colab-df-convert:hover {\n",
              "      background-color: #E2EBFA;\n",
              "      box-shadow: 0px 1px 2px rgba(60, 64, 67, 0.3), 0px 1px 3px 1px rgba(60, 64, 67, 0.15);\n",
              "      fill: #174EA6;\n",
              "    }\n",
              "\n",
              "    [theme=dark] .colab-df-convert {\n",
              "      background-color: #3B4455;\n",
              "      fill: #D2E3FC;\n",
              "    }\n",
              "\n",
              "    [theme=dark] .colab-df-convert:hover {\n",
              "      background-color: #434B5C;\n",
              "      box-shadow: 0px 1px 3px 1px rgba(0, 0, 0, 0.15);\n",
              "      filter: drop-shadow(0px 1px 2px rgba(0, 0, 0, 0.3));\n",
              "      fill: #FFFFFF;\n",
              "    }\n",
              "  </style>\n",
              "\n",
              "      <script>\n",
              "        const buttonEl =\n",
              "          document.querySelector('#df-ed5938b3-0971-4126-9582-7e2cda2cc80a button.colab-df-convert');\n",
              "        buttonEl.style.display =\n",
              "          google.colab.kernel.accessAllowed ? 'block' : 'none';\n",
              "\n",
              "        async function convertToInteractive(key) {\n",
              "          const element = document.querySelector('#df-ed5938b3-0971-4126-9582-7e2cda2cc80a');\n",
              "          const dataTable =\n",
              "            await google.colab.kernel.invokeFunction('convertToInteractive',\n",
              "                                                     [key], {});\n",
              "          if (!dataTable) return;\n",
              "\n",
              "          const docLinkHtml = 'Like what you see? Visit the ' +\n",
              "            '<a target=\"_blank\" href=https://colab.research.google.com/notebooks/data_table.ipynb>data table notebook</a>'\n",
              "            + ' to learn more about interactive tables.';\n",
              "          element.innerHTML = '';\n",
              "          dataTable['output_type'] = 'display_data';\n",
              "          await google.colab.output.renderOutput(dataTable, element);\n",
              "          const docLink = document.createElement('div');\n",
              "          docLink.innerHTML = docLinkHtml;\n",
              "          element.appendChild(docLink);\n",
              "        }\n",
              "      </script>\n",
              "    </div>\n",
              "  </div>\n",
              "  "
            ]
          },
          "metadata": {},
          "execution_count": 10
        }
      ]
    },
    {
      "cell_type": "code",
      "source": [
        "videos.columns"
      ],
      "metadata": {
        "colab": {
          "base_uri": "https://localhost:8080/"
        },
        "id": "CrfB_F13FIbx",
        "outputId": "3fc8ddae-b33e-41b7-ab9a-bbcee49c4e4c"
      },
      "execution_count": 4,
      "outputs": [
        {
          "output_type": "execute_result",
          "data": {
            "text/plain": [
              "Index(['trending_date', 'title', 'channel_title', 'category_id',\n",
              "       'publish_time', 'tags', 'views', 'likes', 'dislikes', 'comment_count'],\n",
              "      dtype='object')"
            ]
          },
          "metadata": {},
          "execution_count": 4
        }
      ]
    },
    {
      "cell_type": "code",
      "source": [
        "videos.describe()\n",
        "#Il metodo .describe() è associato alle variabili di tipo dataframe (ossia ai file),\n",
        "#e permette di avere una visione statistica globale delle variabili numeriche\n",
        "#presenti nel file.\n",
        "#Tale metodo viene applicato ad una variabile di tipo dataframe (ossia ad un file),\n",
        "#e restituisce a sua volta una variabile di tipo dataframe (ossia un file).\n",
        "#Tale metodo seleziona solo le colonne del file che contengono elementi aventi\n",
        "#valore numerico, e per ciascuna di queste colonne di valori calcola\n",
        "#e mostra varie quantità statistiche:\n",
        "#Count= restituisce la somma dei valori contenuti in una certa colonna del file \n",
        "#Mean= restituisce la media aritmetica dei valori contenuti in una certa colonna\n",
        "#del file.\n",
        "#std= restituisce la deviazione standard dei valori contenuti in una certa \n",
        "#colonna del file.\n",
        "#25%= a che punto dell'asse x nell'istogramma è contenuto il 25% della distribuzione.\n",
        "#50%= restituisce la mediana dei valori contenuti in una certa colonna del file."
      ],
      "metadata": {
        "colab": {
          "base_uri": "https://localhost:8080/",
          "height": 300
        },
        "id": "vGYjSx5mFC3L",
        "outputId": "5e04d2c5-b3b8-4b7f-cd2b-1a86fe52d128"
      },
      "execution_count": 5,
      "outputs": [
        {
          "output_type": "execute_result",
          "data": {
            "text/plain": [
              "        category_id         views         likes      dislikes  comment_count\n",
              "count  40949.000000  4.094900e+04  4.094900e+04  4.094900e+04   4.094900e+04\n",
              "mean      19.972429  2.360785e+06  7.426670e+04  3.711401e+03   8.446804e+03\n",
              "std        7.568327  7.394114e+06  2.288853e+05  2.902971e+04   3.743049e+04\n",
              "min        1.000000  5.490000e+02  0.000000e+00  0.000000e+00   0.000000e+00\n",
              "25%       17.000000  2.423290e+05  5.424000e+03  2.020000e+02   6.140000e+02\n",
              "50%       24.000000  6.818610e+05  1.809100e+04  6.310000e+02   1.856000e+03\n",
              "75%       25.000000  1.823157e+06  5.541700e+04  1.938000e+03   5.755000e+03\n",
              "max       43.000000  2.252119e+08  5.613827e+06  1.674420e+06   1.361580e+06"
            ],
            "text/html": [
              "\n",
              "  <div id=\"df-48a305c3-8ee8-483b-8cdd-016e4a3a6d7e\">\n",
              "    <div class=\"colab-df-container\">\n",
              "      <div>\n",
              "<style scoped>\n",
              "    .dataframe tbody tr th:only-of-type {\n",
              "        vertical-align: middle;\n",
              "    }\n",
              "\n",
              "    .dataframe tbody tr th {\n",
              "        vertical-align: top;\n",
              "    }\n",
              "\n",
              "    .dataframe thead th {\n",
              "        text-align: right;\n",
              "    }\n",
              "</style>\n",
              "<table border=\"1\" class=\"dataframe\">\n",
              "  <thead>\n",
              "    <tr style=\"text-align: right;\">\n",
              "      <th></th>\n",
              "      <th>category_id</th>\n",
              "      <th>views</th>\n",
              "      <th>likes</th>\n",
              "      <th>dislikes</th>\n",
              "      <th>comment_count</th>\n",
              "    </tr>\n",
              "  </thead>\n",
              "  <tbody>\n",
              "    <tr>\n",
              "      <th>count</th>\n",
              "      <td>40949.000000</td>\n",
              "      <td>4.094900e+04</td>\n",
              "      <td>4.094900e+04</td>\n",
              "      <td>4.094900e+04</td>\n",
              "      <td>4.094900e+04</td>\n",
              "    </tr>\n",
              "    <tr>\n",
              "      <th>mean</th>\n",
              "      <td>19.972429</td>\n",
              "      <td>2.360785e+06</td>\n",
              "      <td>7.426670e+04</td>\n",
              "      <td>3.711401e+03</td>\n",
              "      <td>8.446804e+03</td>\n",
              "    </tr>\n",
              "    <tr>\n",
              "      <th>std</th>\n",
              "      <td>7.568327</td>\n",
              "      <td>7.394114e+06</td>\n",
              "      <td>2.288853e+05</td>\n",
              "      <td>2.902971e+04</td>\n",
              "      <td>3.743049e+04</td>\n",
              "    </tr>\n",
              "    <tr>\n",
              "      <th>min</th>\n",
              "      <td>1.000000</td>\n",
              "      <td>5.490000e+02</td>\n",
              "      <td>0.000000e+00</td>\n",
              "      <td>0.000000e+00</td>\n",
              "      <td>0.000000e+00</td>\n",
              "    </tr>\n",
              "    <tr>\n",
              "      <th>25%</th>\n",
              "      <td>17.000000</td>\n",
              "      <td>2.423290e+05</td>\n",
              "      <td>5.424000e+03</td>\n",
              "      <td>2.020000e+02</td>\n",
              "      <td>6.140000e+02</td>\n",
              "    </tr>\n",
              "    <tr>\n",
              "      <th>50%</th>\n",
              "      <td>24.000000</td>\n",
              "      <td>6.818610e+05</td>\n",
              "      <td>1.809100e+04</td>\n",
              "      <td>6.310000e+02</td>\n",
              "      <td>1.856000e+03</td>\n",
              "    </tr>\n",
              "    <tr>\n",
              "      <th>75%</th>\n",
              "      <td>25.000000</td>\n",
              "      <td>1.823157e+06</td>\n",
              "      <td>5.541700e+04</td>\n",
              "      <td>1.938000e+03</td>\n",
              "      <td>5.755000e+03</td>\n",
              "    </tr>\n",
              "    <tr>\n",
              "      <th>max</th>\n",
              "      <td>43.000000</td>\n",
              "      <td>2.252119e+08</td>\n",
              "      <td>5.613827e+06</td>\n",
              "      <td>1.674420e+06</td>\n",
              "      <td>1.361580e+06</td>\n",
              "    </tr>\n",
              "  </tbody>\n",
              "</table>\n",
              "</div>\n",
              "      <button class=\"colab-df-convert\" onclick=\"convertToInteractive('df-48a305c3-8ee8-483b-8cdd-016e4a3a6d7e')\"\n",
              "              title=\"Convert this dataframe to an interactive table.\"\n",
              "              style=\"display:none;\">\n",
              "        \n",
              "  <svg xmlns=\"http://www.w3.org/2000/svg\" height=\"24px\"viewBox=\"0 0 24 24\"\n",
              "       width=\"24px\">\n",
              "    <path d=\"M0 0h24v24H0V0z\" fill=\"none\"/>\n",
              "    <path d=\"M18.56 5.44l.94 2.06.94-2.06 2.06-.94-2.06-.94-.94-2.06-.94 2.06-2.06.94zm-11 1L8.5 8.5l.94-2.06 2.06-.94-2.06-.94L8.5 2.5l-.94 2.06-2.06.94zm10 10l.94 2.06.94-2.06 2.06-.94-2.06-.94-.94-2.06-.94 2.06-2.06.94z\"/><path d=\"M17.41 7.96l-1.37-1.37c-.4-.4-.92-.59-1.43-.59-.52 0-1.04.2-1.43.59L10.3 9.45l-7.72 7.72c-.78.78-.78 2.05 0 2.83L4 21.41c.39.39.9.59 1.41.59.51 0 1.02-.2 1.41-.59l7.78-7.78 2.81-2.81c.8-.78.8-2.07 0-2.86zM5.41 20L4 18.59l7.72-7.72 1.47 1.35L5.41 20z\"/>\n",
              "  </svg>\n",
              "      </button>\n",
              "      \n",
              "  <style>\n",
              "    .colab-df-container {\n",
              "      display:flex;\n",
              "      flex-wrap:wrap;\n",
              "      gap: 12px;\n",
              "    }\n",
              "\n",
              "    .colab-df-convert {\n",
              "      background-color: #E8F0FE;\n",
              "      border: none;\n",
              "      border-radius: 50%;\n",
              "      cursor: pointer;\n",
              "      display: none;\n",
              "      fill: #1967D2;\n",
              "      height: 32px;\n",
              "      padding: 0 0 0 0;\n",
              "      width: 32px;\n",
              "    }\n",
              "\n",
              "    .colab-df-convert:hover {\n",
              "      background-color: #E2EBFA;\n",
              "      box-shadow: 0px 1px 2px rgba(60, 64, 67, 0.3), 0px 1px 3px 1px rgba(60, 64, 67, 0.15);\n",
              "      fill: #174EA6;\n",
              "    }\n",
              "\n",
              "    [theme=dark] .colab-df-convert {\n",
              "      background-color: #3B4455;\n",
              "      fill: #D2E3FC;\n",
              "    }\n",
              "\n",
              "    [theme=dark] .colab-df-convert:hover {\n",
              "      background-color: #434B5C;\n",
              "      box-shadow: 0px 1px 3px 1px rgba(0, 0, 0, 0.15);\n",
              "      filter: drop-shadow(0px 1px 2px rgba(0, 0, 0, 0.3));\n",
              "      fill: #FFFFFF;\n",
              "    }\n",
              "  </style>\n",
              "\n",
              "      <script>\n",
              "        const buttonEl =\n",
              "          document.querySelector('#df-48a305c3-8ee8-483b-8cdd-016e4a3a6d7e button.colab-df-convert');\n",
              "        buttonEl.style.display =\n",
              "          google.colab.kernel.accessAllowed ? 'block' : 'none';\n",
              "\n",
              "        async function convertToInteractive(key) {\n",
              "          const element = document.querySelector('#df-48a305c3-8ee8-483b-8cdd-016e4a3a6d7e');\n",
              "          const dataTable =\n",
              "            await google.colab.kernel.invokeFunction('convertToInteractive',\n",
              "                                                     [key], {});\n",
              "          if (!dataTable) return;\n",
              "\n",
              "          const docLinkHtml = 'Like what you see? Visit the ' +\n",
              "            '<a target=\"_blank\" href=https://colab.research.google.com/notebooks/data_table.ipynb>data table notebook</a>'\n",
              "            + ' to learn more about interactive tables.';\n",
              "          element.innerHTML = '';\n",
              "          dataTable['output_type'] = 'display_data';\n",
              "          await google.colab.output.renderOutput(dataTable, element);\n",
              "          const docLink = document.createElement('div');\n",
              "          docLink.innerHTML = docLinkHtml;\n",
              "          element.appendChild(docLink);\n",
              "        }\n",
              "      </script>\n",
              "    </div>\n",
              "  </div>\n",
              "  "
            ]
          },
          "metadata": {},
          "execution_count": 5
        }
      ]
    },
    {
      "cell_type": "code",
      "source": [
        "videos[\"views\"].mean()\n",
        "#In alternativa posso calcolare la media (o qualunque altra quantità statistica)\n",
        "#dei valori contenuti in una singola colonna di un file applicando il metodo .mean() \n",
        "#alla colonna desiderata del file.\n",
        "#In questo caso calcolo la media dei valori contenuti nella colonna \"views\" del \n",
        "#file videos."
      ],
      "metadata": {
        "colab": {
          "base_uri": "https://localhost:8080/"
        },
        "id": "9rDiD10iFLTf",
        "outputId": "a96e253a-9643-4192-c999-3d2646795029"
      },
      "execution_count": 6,
      "outputs": [
        {
          "output_type": "execute_result",
          "data": {
            "text/plain": [
              "2360784.6382573447"
            ]
          },
          "metadata": {},
          "execution_count": 6
        }
      ]
    },
    {
      "cell_type": "code",
      "source": [
        "type(videos[\"views\"])\n",
        "#Che cos è il tipo di dato Series????"
      ],
      "metadata": {
        "colab": {
          "base_uri": "https://localhost:8080/"
        },
        "id": "J2uBHVyyfgiX",
        "outputId": "1ce1a757-0fdb-48fe-f316-0079b2bfaf15"
      },
      "execution_count": 27,
      "outputs": [
        {
          "output_type": "execute_result",
          "data": {
            "text/plain": [
              "pandas.core.series.Series"
            ]
          },
          "metadata": {},
          "execution_count": 27
        }
      ]
    },
    {
      "cell_type": "code",
      "source": [
        "ncols=videos.describe().columns\n",
        "#Mediante la proprietà .columns ottengo una lista avente come elementi i nomi \n",
        "#delle colonne del file videos che contengono elementi aventi valore numerico, \n",
        "#e salvo tale lista con nome ncols.\n",
        "ncols"
      ],
      "metadata": {
        "id": "hhm1toQXFz9s",
        "colab": {
          "base_uri": "https://localhost:8080/"
        },
        "outputId": "ffdf0c25-23e9-458b-a867-a82fd44fbc3e"
      },
      "execution_count": 12,
      "outputs": [
        {
          "output_type": "execute_result",
          "data": {
            "text/plain": [
              "Index(['category_id', 'views', 'likes', 'dislikes', 'comment_count'], dtype='object')"
            ]
          },
          "metadata": {},
          "execution_count": 12
        }
      ]
    },
    {
      "cell_type": "code",
      "source": [
        "videos[ncols]\n",
        "#Estraggo tutte le colonne del file videos che contengono elementi aventi valore\n",
        "#numerico, in quanto ncols è una lista i cui elementi sono i nomi \n",
        "#delle colonne del file videos che contengono elementi aventi valore numerico."
      ],
      "metadata": {
        "colab": {
          "base_uri": "https://localhost:8080/",
          "height": 423
        },
        "id": "98sO0JHOGdSW",
        "outputId": "80e66936-7213-4627-d9d9-7bae25ee72d3"
      },
      "execution_count": 13,
      "outputs": [
        {
          "output_type": "execute_result",
          "data": {
            "text/plain": [
              "       category_id     views   likes  dislikes  comment_count\n",
              "0               22    748374   57527      2966          15954\n",
              "1               24   2418783   97185      6146          12703\n",
              "2               23   3191434  146033      5339           8181\n",
              "3               24    343168   10172       666           2146\n",
              "4               24   2095731  132235      1989          17518\n",
              "...            ...       ...     ...       ...            ...\n",
              "40944           15   1685609   38160      1385           2657\n",
              "40945           22   1064798   60008       382           3936\n",
              "40946           24   1066451   48068      1032           3992\n",
              "40947            1   5660813  192957      2846          13088\n",
              "40948           20  10306119  357079    212976         144795\n",
              "\n",
              "[40949 rows x 5 columns]"
            ],
            "text/html": [
              "\n",
              "  <div id=\"df-194bdf9d-4b41-4b10-98f8-e20671310544\">\n",
              "    <div class=\"colab-df-container\">\n",
              "      <div>\n",
              "<style scoped>\n",
              "    .dataframe tbody tr th:only-of-type {\n",
              "        vertical-align: middle;\n",
              "    }\n",
              "\n",
              "    .dataframe tbody tr th {\n",
              "        vertical-align: top;\n",
              "    }\n",
              "\n",
              "    .dataframe thead th {\n",
              "        text-align: right;\n",
              "    }\n",
              "</style>\n",
              "<table border=\"1\" class=\"dataframe\">\n",
              "  <thead>\n",
              "    <tr style=\"text-align: right;\">\n",
              "      <th></th>\n",
              "      <th>category_id</th>\n",
              "      <th>views</th>\n",
              "      <th>likes</th>\n",
              "      <th>dislikes</th>\n",
              "      <th>comment_count</th>\n",
              "    </tr>\n",
              "  </thead>\n",
              "  <tbody>\n",
              "    <tr>\n",
              "      <th>0</th>\n",
              "      <td>22</td>\n",
              "      <td>748374</td>\n",
              "      <td>57527</td>\n",
              "      <td>2966</td>\n",
              "      <td>15954</td>\n",
              "    </tr>\n",
              "    <tr>\n",
              "      <th>1</th>\n",
              "      <td>24</td>\n",
              "      <td>2418783</td>\n",
              "      <td>97185</td>\n",
              "      <td>6146</td>\n",
              "      <td>12703</td>\n",
              "    </tr>\n",
              "    <tr>\n",
              "      <th>2</th>\n",
              "      <td>23</td>\n",
              "      <td>3191434</td>\n",
              "      <td>146033</td>\n",
              "      <td>5339</td>\n",
              "      <td>8181</td>\n",
              "    </tr>\n",
              "    <tr>\n",
              "      <th>3</th>\n",
              "      <td>24</td>\n",
              "      <td>343168</td>\n",
              "      <td>10172</td>\n",
              "      <td>666</td>\n",
              "      <td>2146</td>\n",
              "    </tr>\n",
              "    <tr>\n",
              "      <th>4</th>\n",
              "      <td>24</td>\n",
              "      <td>2095731</td>\n",
              "      <td>132235</td>\n",
              "      <td>1989</td>\n",
              "      <td>17518</td>\n",
              "    </tr>\n",
              "    <tr>\n",
              "      <th>...</th>\n",
              "      <td>...</td>\n",
              "      <td>...</td>\n",
              "      <td>...</td>\n",
              "      <td>...</td>\n",
              "      <td>...</td>\n",
              "    </tr>\n",
              "    <tr>\n",
              "      <th>40944</th>\n",
              "      <td>15</td>\n",
              "      <td>1685609</td>\n",
              "      <td>38160</td>\n",
              "      <td>1385</td>\n",
              "      <td>2657</td>\n",
              "    </tr>\n",
              "    <tr>\n",
              "      <th>40945</th>\n",
              "      <td>22</td>\n",
              "      <td>1064798</td>\n",
              "      <td>60008</td>\n",
              "      <td>382</td>\n",
              "      <td>3936</td>\n",
              "    </tr>\n",
              "    <tr>\n",
              "      <th>40946</th>\n",
              "      <td>24</td>\n",
              "      <td>1066451</td>\n",
              "      <td>48068</td>\n",
              "      <td>1032</td>\n",
              "      <td>3992</td>\n",
              "    </tr>\n",
              "    <tr>\n",
              "      <th>40947</th>\n",
              "      <td>1</td>\n",
              "      <td>5660813</td>\n",
              "      <td>192957</td>\n",
              "      <td>2846</td>\n",
              "      <td>13088</td>\n",
              "    </tr>\n",
              "    <tr>\n",
              "      <th>40948</th>\n",
              "      <td>20</td>\n",
              "      <td>10306119</td>\n",
              "      <td>357079</td>\n",
              "      <td>212976</td>\n",
              "      <td>144795</td>\n",
              "    </tr>\n",
              "  </tbody>\n",
              "</table>\n",
              "<p>40949 rows × 5 columns</p>\n",
              "</div>\n",
              "      <button class=\"colab-df-convert\" onclick=\"convertToInteractive('df-194bdf9d-4b41-4b10-98f8-e20671310544')\"\n",
              "              title=\"Convert this dataframe to an interactive table.\"\n",
              "              style=\"display:none;\">\n",
              "        \n",
              "  <svg xmlns=\"http://www.w3.org/2000/svg\" height=\"24px\"viewBox=\"0 0 24 24\"\n",
              "       width=\"24px\">\n",
              "    <path d=\"M0 0h24v24H0V0z\" fill=\"none\"/>\n",
              "    <path d=\"M18.56 5.44l.94 2.06.94-2.06 2.06-.94-2.06-.94-.94-2.06-.94 2.06-2.06.94zm-11 1L8.5 8.5l.94-2.06 2.06-.94-2.06-.94L8.5 2.5l-.94 2.06-2.06.94zm10 10l.94 2.06.94-2.06 2.06-.94-2.06-.94-.94-2.06-.94 2.06-2.06.94z\"/><path d=\"M17.41 7.96l-1.37-1.37c-.4-.4-.92-.59-1.43-.59-.52 0-1.04.2-1.43.59L10.3 9.45l-7.72 7.72c-.78.78-.78 2.05 0 2.83L4 21.41c.39.39.9.59 1.41.59.51 0 1.02-.2 1.41-.59l7.78-7.78 2.81-2.81c.8-.78.8-2.07 0-2.86zM5.41 20L4 18.59l7.72-7.72 1.47 1.35L5.41 20z\"/>\n",
              "  </svg>\n",
              "      </button>\n",
              "      \n",
              "  <style>\n",
              "    .colab-df-container {\n",
              "      display:flex;\n",
              "      flex-wrap:wrap;\n",
              "      gap: 12px;\n",
              "    }\n",
              "\n",
              "    .colab-df-convert {\n",
              "      background-color: #E8F0FE;\n",
              "      border: none;\n",
              "      border-radius: 50%;\n",
              "      cursor: pointer;\n",
              "      display: none;\n",
              "      fill: #1967D2;\n",
              "      height: 32px;\n",
              "      padding: 0 0 0 0;\n",
              "      width: 32px;\n",
              "    }\n",
              "\n",
              "    .colab-df-convert:hover {\n",
              "      background-color: #E2EBFA;\n",
              "      box-shadow: 0px 1px 2px rgba(60, 64, 67, 0.3), 0px 1px 3px 1px rgba(60, 64, 67, 0.15);\n",
              "      fill: #174EA6;\n",
              "    }\n",
              "\n",
              "    [theme=dark] .colab-df-convert {\n",
              "      background-color: #3B4455;\n",
              "      fill: #D2E3FC;\n",
              "    }\n",
              "\n",
              "    [theme=dark] .colab-df-convert:hover {\n",
              "      background-color: #434B5C;\n",
              "      box-shadow: 0px 1px 3px 1px rgba(0, 0, 0, 0.15);\n",
              "      filter: drop-shadow(0px 1px 2px rgba(0, 0, 0, 0.3));\n",
              "      fill: #FFFFFF;\n",
              "    }\n",
              "  </style>\n",
              "\n",
              "      <script>\n",
              "        const buttonEl =\n",
              "          document.querySelector('#df-194bdf9d-4b41-4b10-98f8-e20671310544 button.colab-df-convert');\n",
              "        buttonEl.style.display =\n",
              "          google.colab.kernel.accessAllowed ? 'block' : 'none';\n",
              "\n",
              "        async function convertToInteractive(key) {\n",
              "          const element = document.querySelector('#df-194bdf9d-4b41-4b10-98f8-e20671310544');\n",
              "          const dataTable =\n",
              "            await google.colab.kernel.invokeFunction('convertToInteractive',\n",
              "                                                     [key], {});\n",
              "          if (!dataTable) return;\n",
              "\n",
              "          const docLinkHtml = 'Like what you see? Visit the ' +\n",
              "            '<a target=\"_blank\" href=https://colab.research.google.com/notebooks/data_table.ipynb>data table notebook</a>'\n",
              "            + ' to learn more about interactive tables.';\n",
              "          element.innerHTML = '';\n",
              "          dataTable['output_type'] = 'display_data';\n",
              "          await google.colab.output.renderOutput(dataTable, element);\n",
              "          const docLink = document.createElement('div');\n",
              "          docLink.innerHTML = docLinkHtml;\n",
              "          element.appendChild(docLink);\n",
              "        }\n",
              "      </script>\n",
              "    </div>\n",
              "  </div>\n",
              "  "
            ]
          },
          "metadata": {},
          "execution_count": 13
        }
      ]
    },
    {
      "cell_type": "code",
      "source": [
        "type(videos[ncols])"
      ],
      "metadata": {
        "colab": {
          "base_uri": "https://localhost:8080/"
        },
        "id": "T40zjE07AOqw",
        "outputId": "798bd44e-5059-403c-c905-974c95bff36a"
      },
      "execution_count": 14,
      "outputs": [
        {
          "output_type": "execute_result",
          "data": {
            "text/plain": [
              "pandas.core.frame.DataFrame"
            ]
          },
          "metadata": {},
          "execution_count": 14
        }
      ]
    },
    {
      "cell_type": "code",
      "source": [
        "videos[ncols].mean()\n",
        "#Calcolo la media per ciascuna colonna di valori numerici che un file contiene\n",
        "#applicando il metodo .mean() a tutte le le colonne del file che contengono \n",
        "#elementi aventi valore numerico.\n",
        "#In questo caso calcolo la media per ciascuna colonna di valori numerici che il\n",
        "#file videos contiene."
      ],
      "metadata": {
        "colab": {
          "base_uri": "https://localhost:8080/"
        },
        "id": "kTcuqzejGSQo",
        "outputId": "cbe64503-8b79-49f1-80aa-ead2c761c134"
      },
      "execution_count": 9,
      "outputs": [
        {
          "output_type": "execute_result",
          "data": {
            "text/plain": [
              "category_id      1.997243e+01\n",
              "views            2.360785e+06\n",
              "likes            7.426670e+04\n",
              "dislikes         3.711401e+03\n",
              "comment_count    8.446804e+03\n",
              "dtype: float64"
            ]
          },
          "metadata": {},
          "execution_count": 9
        }
      ]
    },
    {
      "cell_type": "code",
      "source": [
        "videos[ncols].std()\n",
        "#Calcolo la deviazione standard per ciascuna colonna di valori numerici che un file contiene\n",
        "#applicando il metodo .std() a tutte le le colonne del file che contengono \n",
        "#elementi aventi valore numerico.\n",
        "#In questo caso calcolo la deviazione standard per ciascuna colonna di valori numerici che il\n",
        "#file videos contiene."
      ],
      "metadata": {
        "colab": {
          "base_uri": "https://localhost:8080/"
        },
        "id": "8H4MEuitGV0F",
        "outputId": "9ddb38c9-b4f2-46b9-a5fd-c98043b55358"
      },
      "execution_count": 10,
      "outputs": [
        {
          "output_type": "execute_result",
          "data": {
            "text/plain": [
              "category_id      7.568327e+00\n",
              "views            7.394114e+06\n",
              "likes            2.288853e+05\n",
              "dislikes         2.902971e+04\n",
              "comment_count    3.743049e+04\n",
              "dtype: float64"
            ]
          },
          "metadata": {},
          "execution_count": 10
        }
      ]
    },
    {
      "cell_type": "code",
      "source": [
        "videos_array=videos[ncols].values\n",
        "#La proprietà .values è associata alle variabili di tipo dataframe (ossia ai file):\n",
        "#tale proprietà viene applicata ad una variabile di tipo dataframe di dimensione \n",
        "#nxm (ossia un file contenente n righe e m colonne) e restituisce un array di \n",
        "#dimensione nxm contenente gli stessi nxm elementi che conteneva il file\n",
        "videos_array"
      ],
      "metadata": {
        "id": "Ip2fa89nGgbj",
        "colab": {
          "base_uri": "https://localhost:8080/"
        },
        "outputId": "a84b33be-76bc-4905-e601-86c07af0f54a"
      },
      "execution_count": 15,
      "outputs": [
        {
          "output_type": "execute_result",
          "data": {
            "text/plain": [
              "array([[      22,   748374,    57527,     2966,    15954],\n",
              "       [      24,  2418783,    97185,     6146,    12703],\n",
              "       [      23,  3191434,   146033,     5339,     8181],\n",
              "       ...,\n",
              "       [      24,  1066451,    48068,     1032,     3992],\n",
              "       [       1,  5660813,   192957,     2846,    13088],\n",
              "       [      20, 10306119,   357079,   212976,   144795]])"
            ]
          },
          "metadata": {},
          "execution_count": 15
        }
      ]
    },
    {
      "cell_type": "code",
      "source": [
        "videos_array.shape"
      ],
      "metadata": {
        "colab": {
          "base_uri": "https://localhost:8080/"
        },
        "id": "Mgjpt8lCGmE8",
        "outputId": "5541afb1-ed85-4f09-cf20-e8f748ca2f9d"
      },
      "execution_count": 12,
      "outputs": [
        {
          "output_type": "execute_result",
          "data": {
            "text/plain": [
              "(40949, 5)"
            ]
          },
          "metadata": {},
          "execution_count": 12
        }
      ]
    },
    {
      "cell_type": "code",
      "source": [
        "videos_array.mean()\n",
        "#Il metodo .mean() può essere applicato anche agli array, ma in questo caso \n",
        "#bisogna fare attenzione al fatto che tale metodo ignorerà la struttura spaziale\n",
        "#bidimensionale dell'array: infatti, applicando il metodo .mean() ad un intero array\n",
        "#contenente nxm elementi otterrò la media di tutti gli nxm valori che l'array contiene. "
      ],
      "metadata": {
        "colab": {
          "base_uri": "https://localhost:8080/"
        },
        "id": "7JkvcTIhGpmJ",
        "outputId": "672ae6e9-cf34-45f7-b70e-234d7e334e3d"
      },
      "execution_count": 16,
      "outputs": [
        {
          "output_type": "execute_result",
          "data": {
            "text/plain": [
              "489445.9035385479"
            ]
          },
          "metadata": {},
          "execution_count": 16
        }
      ]
    },
    {
      "cell_type": "code",
      "source": [
        "pl.mean?"
      ],
      "metadata": {
        "id": "ASp9Ck07ec3Y"
      },
      "execution_count": 32,
      "outputs": []
    },
    {
      "cell_type": "code",
      "source": [
        "videos_array.mean(axis=0)\n",
        "#Il metodo .mean() può ricevere come argomento un determinato asse dell'array \n",
        "#a cui tale metodo è applicato: in questo caso la media verrà calcolata lungo \n",
        "#l'asse che il metodo .mean() riceve come argomento. \n",
        "#Quindi, se il metodo .mean() riceve come argomento l'asse delle righe (asse 0)\n",
        "#dell'array a cui tale metodo è applicato, verrà calcolata la media per ciascuna\n",
        "#colonna di valori che l'array contiene."
      ],
      "metadata": {
        "colab": {
          "base_uri": "https://localhost:8080/"
        },
        "id": "S2HIZrvbGtVn",
        "outputId": "09c5c074-b7ca-4fc2-ddb6-b195bb95b897"
      },
      "execution_count": 17,
      "outputs": [
        {
          "output_type": "execute_result",
          "data": {
            "text/plain": [
              "array([1.99724291e+01, 2.36078464e+06, 7.42667024e+04, 3.71140089e+03,\n",
              "       8.44680368e+03])"
            ]
          },
          "metadata": {},
          "execution_count": 17
        }
      ]
    },
    {
      "cell_type": "code",
      "source": [
        "videos_array.mean(axis=1)\n",
        "#Se invece il metodo .mean() riceve come argomento l'asse delle colonne (asse 1)\n",
        "#dell'array a cui tale metodo è applicato, verrà calcolata la media per ciascuna\n",
        "#riga di valori che l'array contiene."
      ],
      "metadata": {
        "colab": {
          "base_uri": "https://localhost:8080/"
        },
        "id": "dPkjU7KqG5BV",
        "outputId": "08f1799e-813e-4f59-b14a-19110a3cf0e7"
      },
      "execution_count": 15,
      "outputs": [
        {
          "output_type": "execute_result",
          "data": {
            "text/plain": [
              "array([ 164968.6,  506968.2,  670202. , ...,  223913.4, 1173941. ,\n",
              "       2204197.8])"
            ]
          },
          "metadata": {},
          "execution_count": 15
        }
      ]
    },
    {
      "cell_type": "code",
      "source": [
        "videos_array.std(axis=0)\n",
        "#Anche il metodo .std() può essere applicato agli array.\n",
        "#Anche in questo caso il metodo .std() può ricevere come argomento un determinato\n",
        "#asse dell'array a cui tale metodo è applicato: in questo caso la deviazione \n",
        "#standard verrà calcolata lungo l'asse che il metodo .std() riceve come argomento. \n",
        "#Quindi, se il metodo .std() riceve come argomento l'asse delle righe (asse 0)\n",
        "#dell'array a cui tale metodo è applicato, verrà calcolata la deviazione standard\n",
        "#per ciascuna colonna di valori che l'array contiene."
      ],
      "metadata": {
        "colab": {
          "base_uri": "https://localhost:8080/"
        },
        "id": "I7-1K5D_G8ED",
        "outputId": "3fa340c6-a187-4ad0-b35e-bfad6942d6d5"
      },
      "execution_count": 16,
      "outputs": [
        {
          "output_type": "execute_result",
          "data": {
            "text/plain": [
              "array([7.56823442e+00, 7.39402347e+06, 2.28882543e+05, 2.90293515e+04,\n",
              "       3.74300300e+04])"
            ]
          },
          "metadata": {},
          "execution_count": 16
        }
      ]
    },
    {
      "cell_type": "code",
      "source": [
        "videos_array.std(axis=1)\n",
        "#Se invece il metodo .std() riceve come argomento l'asse delle colonne (asse 1)\n",
        "#dell'array a cui tale metodo è applicato, verrà calcolata la deviazione standard \n",
        "#per ciascuna riga di valori che l'array contiene."
      ],
      "metadata": {
        "colab": {
          "base_uri": "https://localhost:8080/"
        },
        "id": "VE2coNNYHFot",
        "outputId": "feaf6d8e-8776-482e-8181-a06a2b128015"
      },
      "execution_count": 17,
      "outputs": [
        {
          "output_type": "execute_result",
          "data": {
            "text/plain": [
              "array([ 292425.42038311,  956563.79675992, 1261809.68799863, ...,\n",
              "        421653.70061016, 2244617.03917947, 4052591.24303892])"
            ]
          },
          "metadata": {},
          "execution_count": 17
        }
      ]
    },
    {
      "cell_type": "code",
      "source": [
        "np.median(videos_array, axis=0)\n",
        "#La funzione np.median(), contenuta nel pacchetto numpy, riceve come primo argomento \n",
        "#un array o un oggetto che possa essere convertito in un array (come un file), e \n",
        "#può opzionalmente ricevere come argomento anche un determinato asse dell'array\n",
        "#che riceve come primo argomento.\n",
        "#Nel caso in cui la funzione median() riceva come argomento solo un array di \n",
        "#dimensione nxm, essa restituirà la mediana di tutti gli nxm valori che l'array \n",
        "#contiene.\n",
        "#Nel caso in cui la funzione median() riceva come argomenti sia un array sia un \n",
        "#determinato asse di tale array, essa calcolerà la mediana lungo l'asse che ha \n",
        "#ricevuto come secondo argomento.\n",
        "#Quindi, se la funzione median() riceve come secondo argomento l'asse delle \n",
        "#righe (asse 0) dell'array che riceve come primo argomento, essa calcolerà la \n",
        "#mediana per ciascuna colonna di valori che l'array contiene.\n",
        "#Invece se la funzione median() riceve come secondo argomento l'asse delle \n",
        "#colonne (asse 1) dell'array che riceve come primo argomento, essa calcolerà la \n",
        "#mediana per ciascuna riga di valori che l'array contiene."
      ],
      "metadata": {
        "colab": {
          "base_uri": "https://localhost:8080/"
        },
        "id": "EuG6cjIUHIPl",
        "outputId": "0aa9b939-666c-487f-f463-fecf5b28c439"
      },
      "execution_count": 18,
      "outputs": [
        {
          "output_type": "execute_result",
          "data": {
            "text/plain": [
              "array([2.40000e+01, 6.81861e+05, 1.80910e+04, 6.31000e+02, 1.85600e+03])"
            ]
          },
          "metadata": {},
          "execution_count": 18
        }
      ]
    },
    {
      "cell_type": "code",
      "source": [
        "np.median?"
      ],
      "metadata": {
        "id": "WPkE6VcWlCxN"
      },
      "execution_count": 36,
      "outputs": []
    },
    {
      "cell_type": "code",
      "source": [
        "videos[ncols].corr()\n",
        "#La correlazione tra due variabili indica la tendenza di tali variabili a \n",
        "#\"variare insieme\", e quindi a comportarsi allo stesso modo.\n",
        "#Per esprimere la relazione esistente tra due variabili si utilizza l'indice\n",
        "#di correlazione, il cui valore è compreso nell'intervallo [-1, 1]:\n",
        "#-Se l'indice di correlazione tra due variabili è pari a 0, tra le due variabili\n",
        "#non esiste alcun tipo di relazione, sono scorrelate\n",
        "#-Se l'indice di correlazione tra due variabili è strettamente positivo, tra le due \n",
        "#variabili esiste una relazione tale per cui all'aumentare di una variabile\n",
        "#aumenta anche l'altra. In particolare se l'indice di correlazione tra due \n",
        "#variabili è pari a 1 si ha una correlazione perfetta positiva tra tali variabili\n",
        "#(di fatto sono la stessa variabile).\n",
        "#-Se l'indice di correlazione tra due variabili è strettamente negativo, tra le due \n",
        "#variabili esiste una relazione tale per cui all'aumentare di una variabile\n",
        "#l'altra variabile diminuisce. In particolare se l'indice di correlazione tra due \n",
        "#variabili è pari a -1 si ha una correlazione perfetta negativa tra tali variabili\n",
        "#(di fatto sono due variabili opposte).\n",
        "#In una analisi dei dati, la correlazione tra i dati può compromettere il \n",
        "#risultato dell'analisi, in quanto quasi tutti i metodi, test e algoritmi che \n",
        "#sono stati sviluppati assumono che non vi sia correlazione tra i dati.\n",
        "#Il metodo .corr() è associato alle variabili di tipo dataframe (ossia ai file),\n",
        "#e permette di calcolare la correlazione esistente tra le variabili numeriche\n",
        "#presenti nel file.\n",
        "#Tale metodo viene applicato ad una variabile di tipo dataframe (ossia ad un file)\n",
        "#di dimensione mxn (ossia un file contenente m righe e n colonne), seleziona solo\n",
        "#le colonne del file che contengono elementi aventi valore numerico, e calcola\n",
        "#la correlazione esistente tra ciascuna di queste colonne di valori (i valori  \n",
        "#contenuti in ciascuna di queste colonne del file rappresentano i valori di una \n",
        "#diversa variabile).\n",
        "#Tale metodo restituisce dunque una matrice di correlazione di dimensione nxn,\n",
        "#organizzata a sua volta in una variabile di tipo dataframe: i nomi\n",
        "#delle colonne e i nomi delle righe di questo nuovo file sono gli stessi, e \n",
        "#corrispondono ai nomi delle colonne del file originario contenenti elementi dal \n",
        "#valore numerico.\n",
        "#L'elemento i-j-esimo della matrice di correlazione corrisponderà dunque all'\n",
        "#indice di correlazione tra la variabile che identifica la i-esima riga e la \n",
        "#variabile che identifica la j-esima colonna di tale matrice.\n",
        "#Notiamo che sulla diagonale della matrice di correlazione ho sempre 1, perchè \n",
        "#la correlazione tra una variabile e se stessa è 1.\n",
        "#Notiamo che le variabili views e likes sono naturalmente molto correlate."
      ],
      "metadata": {
        "colab": {
          "base_uri": "https://localhost:8080/",
          "height": 206
        },
        "id": "bbEC-V7DH31G",
        "outputId": "b22bbde7-4985-4d5d-f36b-4d1227620381"
      },
      "execution_count": 14,
      "outputs": [
        {
          "output_type": "execute_result",
          "data": {
            "text/plain": [
              "               category_id     views     likes  dislikes  comment_count\n",
              "category_id       1.000000 -0.168231 -0.173921 -0.033547      -0.076307\n",
              "views            -0.168231  1.000000  0.849177  0.472213       0.617621\n",
              "likes            -0.173921  0.849177  1.000000  0.447186       0.803057\n",
              "dislikes         -0.033547  0.472213  0.447186  1.000000       0.700184\n",
              "comment_count    -0.076307  0.617621  0.803057  0.700184       1.000000"
            ],
            "text/html": [
              "\n",
              "  <div id=\"df-f9edf393-1ed8-4649-a99d-63c10df1c1a1\">\n",
              "    <div class=\"colab-df-container\">\n",
              "      <div>\n",
              "<style scoped>\n",
              "    .dataframe tbody tr th:only-of-type {\n",
              "        vertical-align: middle;\n",
              "    }\n",
              "\n",
              "    .dataframe tbody tr th {\n",
              "        vertical-align: top;\n",
              "    }\n",
              "\n",
              "    .dataframe thead th {\n",
              "        text-align: right;\n",
              "    }\n",
              "</style>\n",
              "<table border=\"1\" class=\"dataframe\">\n",
              "  <thead>\n",
              "    <tr style=\"text-align: right;\">\n",
              "      <th></th>\n",
              "      <th>category_id</th>\n",
              "      <th>views</th>\n",
              "      <th>likes</th>\n",
              "      <th>dislikes</th>\n",
              "      <th>comment_count</th>\n",
              "    </tr>\n",
              "  </thead>\n",
              "  <tbody>\n",
              "    <tr>\n",
              "      <th>category_id</th>\n",
              "      <td>1.000000</td>\n",
              "      <td>-0.168231</td>\n",
              "      <td>-0.173921</td>\n",
              "      <td>-0.033547</td>\n",
              "      <td>-0.076307</td>\n",
              "    </tr>\n",
              "    <tr>\n",
              "      <th>views</th>\n",
              "      <td>-0.168231</td>\n",
              "      <td>1.000000</td>\n",
              "      <td>0.849177</td>\n",
              "      <td>0.472213</td>\n",
              "      <td>0.617621</td>\n",
              "    </tr>\n",
              "    <tr>\n",
              "      <th>likes</th>\n",
              "      <td>-0.173921</td>\n",
              "      <td>0.849177</td>\n",
              "      <td>1.000000</td>\n",
              "      <td>0.447186</td>\n",
              "      <td>0.803057</td>\n",
              "    </tr>\n",
              "    <tr>\n",
              "      <th>dislikes</th>\n",
              "      <td>-0.033547</td>\n",
              "      <td>0.472213</td>\n",
              "      <td>0.447186</td>\n",
              "      <td>1.000000</td>\n",
              "      <td>0.700184</td>\n",
              "    </tr>\n",
              "    <tr>\n",
              "      <th>comment_count</th>\n",
              "      <td>-0.076307</td>\n",
              "      <td>0.617621</td>\n",
              "      <td>0.803057</td>\n",
              "      <td>0.700184</td>\n",
              "      <td>1.000000</td>\n",
              "    </tr>\n",
              "  </tbody>\n",
              "</table>\n",
              "</div>\n",
              "      <button class=\"colab-df-convert\" onclick=\"convertToInteractive('df-f9edf393-1ed8-4649-a99d-63c10df1c1a1')\"\n",
              "              title=\"Convert this dataframe to an interactive table.\"\n",
              "              style=\"display:none;\">\n",
              "        \n",
              "  <svg xmlns=\"http://www.w3.org/2000/svg\" height=\"24px\"viewBox=\"0 0 24 24\"\n",
              "       width=\"24px\">\n",
              "    <path d=\"M0 0h24v24H0V0z\" fill=\"none\"/>\n",
              "    <path d=\"M18.56 5.44l.94 2.06.94-2.06 2.06-.94-2.06-.94-.94-2.06-.94 2.06-2.06.94zm-11 1L8.5 8.5l.94-2.06 2.06-.94-2.06-.94L8.5 2.5l-.94 2.06-2.06.94zm10 10l.94 2.06.94-2.06 2.06-.94-2.06-.94-.94-2.06-.94 2.06-2.06.94z\"/><path d=\"M17.41 7.96l-1.37-1.37c-.4-.4-.92-.59-1.43-.59-.52 0-1.04.2-1.43.59L10.3 9.45l-7.72 7.72c-.78.78-.78 2.05 0 2.83L4 21.41c.39.39.9.59 1.41.59.51 0 1.02-.2 1.41-.59l7.78-7.78 2.81-2.81c.8-.78.8-2.07 0-2.86zM5.41 20L4 18.59l7.72-7.72 1.47 1.35L5.41 20z\"/>\n",
              "  </svg>\n",
              "      </button>\n",
              "      \n",
              "  <style>\n",
              "    .colab-df-container {\n",
              "      display:flex;\n",
              "      flex-wrap:wrap;\n",
              "      gap: 12px;\n",
              "    }\n",
              "\n",
              "    .colab-df-convert {\n",
              "      background-color: #E8F0FE;\n",
              "      border: none;\n",
              "      border-radius: 50%;\n",
              "      cursor: pointer;\n",
              "      display: none;\n",
              "      fill: #1967D2;\n",
              "      height: 32px;\n",
              "      padding: 0 0 0 0;\n",
              "      width: 32px;\n",
              "    }\n",
              "\n",
              "    .colab-df-convert:hover {\n",
              "      background-color: #E2EBFA;\n",
              "      box-shadow: 0px 1px 2px rgba(60, 64, 67, 0.3), 0px 1px 3px 1px rgba(60, 64, 67, 0.15);\n",
              "      fill: #174EA6;\n",
              "    }\n",
              "\n",
              "    [theme=dark] .colab-df-convert {\n",
              "      background-color: #3B4455;\n",
              "      fill: #D2E3FC;\n",
              "    }\n",
              "\n",
              "    [theme=dark] .colab-df-convert:hover {\n",
              "      background-color: #434B5C;\n",
              "      box-shadow: 0px 1px 3px 1px rgba(0, 0, 0, 0.15);\n",
              "      filter: drop-shadow(0px 1px 2px rgba(0, 0, 0, 0.3));\n",
              "      fill: #FFFFFF;\n",
              "    }\n",
              "  </style>\n",
              "\n",
              "      <script>\n",
              "        const buttonEl =\n",
              "          document.querySelector('#df-f9edf393-1ed8-4649-a99d-63c10df1c1a1 button.colab-df-convert');\n",
              "        buttonEl.style.display =\n",
              "          google.colab.kernel.accessAllowed ? 'block' : 'none';\n",
              "\n",
              "        async function convertToInteractive(key) {\n",
              "          const element = document.querySelector('#df-f9edf393-1ed8-4649-a99d-63c10df1c1a1');\n",
              "          const dataTable =\n",
              "            await google.colab.kernel.invokeFunction('convertToInteractive',\n",
              "                                                     [key], {});\n",
              "          if (!dataTable) return;\n",
              "\n",
              "          const docLinkHtml = 'Like what you see? Visit the ' +\n",
              "            '<a target=\"_blank\" href=https://colab.research.google.com/notebooks/data_table.ipynb>data table notebook</a>'\n",
              "            + ' to learn more about interactive tables.';\n",
              "          element.innerHTML = '';\n",
              "          dataTable['output_type'] = 'display_data';\n",
              "          await google.colab.output.renderOutput(dataTable, element);\n",
              "          const docLink = document.createElement('div');\n",
              "          docLink.innerHTML = docLinkHtml;\n",
              "          element.appendChild(docLink);\n",
              "        }\n",
              "      </script>\n",
              "    </div>\n",
              "  </div>\n",
              "  "
            ]
          },
          "metadata": {},
          "execution_count": 14
        }
      ]
    },
    {
      "cell_type": "code",
      "source": [
        "pl.imshow(videos[ncols].corr());\n",
        "#Per visualizzare in maniera intuitiva la correlazione esistente tra le variabili\n",
        "#numeriche presenti nel file, utilizziamo la funzione imshow per mostrare la matrice \n",
        "#di correlazione come immagine.\n",
        "#Notiamo che la funzione imshow può ricevere come argomento la matrice di \n",
        "#correlazione tra le variabili numeriche presenti nel file, ossia una variabile \n",
        "#di tipo dataframe, perchè le variabili di tipo dataframe possono essere convertite\n",
        "#in array.\n",
        "pl.colorbar();\n",
        "#Associo alla immagine creata mediante la funzione imshow una colorbar, in cui \n",
        "#è indicato a quale valore dell'indice di correlazione corrisponda ciascun colore\n",
        "#che compare nell'immagine.\n"
      ],
      "metadata": {
        "colab": {
          "base_uri": "https://localhost:8080/",
          "height": 269
        },
        "id": "BDP82IhgMCQS",
        "outputId": "e0117536-f68e-4f01-c5e0-96a2511f63ea"
      },
      "execution_count": 15,
      "outputs": [
        {
          "output_type": "display_data",
          "data": {
            "text/plain": [
              "<Figure size 432x288 with 2 Axes>"
            ],
            "image/png": "[encoded data removed]"
          },
          "metadata": {
            "needs_background": "light"
          }
        }
      ]
    },
    {
      "cell_type": "code",
      "source": [
        "pl.xticks?"
      ],
      "metadata": {
        "id": "89bqfTH6BToN"
      },
      "execution_count": 20,
      "outputs": []
    },
    {
      "cell_type": "code",
      "source": [
        "pl.imshow(videos[ncols].corr());\n",
        "pl.colorbar();\n",
        "#Le funzioni pl.xticks() e pl.yticks(), contenute all'interno del sottopacchetto\n",
        "#pylab, assegnano alla immagine creata mediante la funzione imshow dei \"ticks\"\n",
        "#(segnaposto), ossia due sequenze di valori (o stringhe) che appariranno\n",
        "#rispettivamente sull'asse x e sull'asse y della nostra immagine (o del nostro \n",
        "#plot, nel caso in cui stessimo creando un plot e non una immagine).\n",
        "#Tali funzioni possono ricevere più argomenti:\n",
        "#Il primo argomento che tali funzioni possono ricevere è una lista, i cui elementi \n",
        "#sono dei numeri che indicano la posizione dei \"ticks\" che appariranno \n",
        "#rispettivamente sull'asse x e sull'asse y della nostra immagine.\n",
        "#Il secondo argomento che tali funzioni possono ricevere è una lista, i cui elementi\n",
        "#sono i valori o le stringhe che compariranno rispettivamente sull'asse x e sull'asse y \n",
        "#della nostra immagine in corrispondenza delle posizioni indicate nel primo\n",
        "#argomento di tali funzioni.\n",
        "pl.xticks([0,1,2,3,4], [\"category_id\",\"views\",\"likes\",\"dislikes\",\"comment_count\"]);\n",
        "pl.yticks([0,1,2,3,4], [\"category_id\",\"views\",\"likes\",\"dislikes\",\"comment_count\"]);"
      ],
      "metadata": {
        "colab": {
          "base_uri": "https://localhost:8080/",
          "height": 270
        },
        "id": "IZrkd4FFNV2K",
        "outputId": "a1a29a3f-02d2-4a1a-fb5c-1582a22ec871"
      },
      "execution_count": 16,
      "outputs": [
        {
          "output_type": "display_data",
          "data": {
            "text/plain": [
              "<Figure size 432x288 with 2 Axes>"
            ],
            "image/png": "[encoded data removed]"
          },
          "metadata": {
            "needs_background": "light"
          }
        }
      ]
    },
    {
      "cell_type": "code",
      "source": [
        "pl.imshow(videos[ncols].corr(), clim=(-1,1), cmap=\"RdBu\");\n",
        "#Posso fornire alla funzione imshow un secondo e un terzo argomento:\n",
        "#Poichè l'indice di correlazione è una quantità il cui valore in generale è \n",
        "#compreso nell'intervallo [-1,1], vorrei che il range dei colori che compaiono\n",
        "#nella mia immagine corrispondesse all'intervallo [-1,1], ma nessuno degli \n",
        "#elementi della matrice di correlazione tra le variabili numeriche presenti nel \n",
        "#file è pari a -1, per cui, visto che la mia immagine rappresenta tale matrice \n",
        "#di correlazione, il range dei colori che compaiono nella mia immagine \n",
        "#corrisponde ad un intervallo inferiore.\n",
        "#Fornisco dunque alla funzione imshow l'argomento clim=(-1,1), il quale controlla \n",
        "#i limiti inferiore e superiore per il range di colori che compaiono nella mia immagine.\n",
        "#L'argomento cmap=\"\", dove cmap sta per colormap, controlla i colori che \n",
        "#compaiono nella mia immagine: posso modificare la colormap per dare più significato\n",
        "#agli elementi nulli (o quasi) della matrice di correlazione, ossia quegli elementi\n",
        "#che rappresentano l'indice di correlazione tra variabili scorrelate tra loro \n",
        "#(è la situazione ideale!).\n",
        "pl.colorbar();\n",
        "pl.xticks([0,1,2,3,4], [\"category_id\",\"views\",\"likes\",\"dislikes\",\"comment_count\"], rotation=45);\n",
        "pl.yticks([0,1,2,3,4], [\"category_id\",\"views\",\"likes\",\"dislikes\",\"comment_count\"], rotation=45);\n",
        "#L'argomento rotation=n controlla l'angolazione con cui i ticks appaiono sull'asse\n",
        "#x e sull'asse y della nostra immagine."
      ],
      "metadata": {
        "colab": {
          "base_uri": "https://localhost:8080/",
          "height": 323
        },
        "id": "-4S9CmLIIQY1",
        "outputId": "eea17a86-9f17-4b0a-e038-39bf02766bca"
      },
      "execution_count": 17,
      "outputs": [
        {
          "output_type": "display_data",
          "data": {
            "text/plain": [
              "<Figure size 432x288 with 2 Axes>"
            ],
            "image/png": "[encoded data removed]"
          },
          "metadata": {
            "needs_background": "light"
          }
        }
      ]
    },
    {
      "cell_type": "code",
      "source": [
        "pl.imshow(videos[ncols[1:]].corr(), clim=(-1,1), cmap=\"RdBu\");\n",
        "#Notiamo che tutte le variabili numeriche presenti nel file sono correlate in \n",
        "#maniera positiva, ad eccezione della variabile category_id, che non è importante\n",
        "#in quanto i valori numerici contenuti nella colonna category_id del file sono\n",
        "#solo gli indici che identificano le righe del file.\n",
        "#Dunque scelgo di non rappresentare la variabile category_id nella mia immagine.\n",
        "pl.colorbar();\n",
        "pl.xticks([0,1,2,3], [\"views\",\"likes\",\"dislikes\",\"comment_count\"], rotation=45);\n",
        "pl.yticks([0,1,2,3], [\"views\",\"likes\",\"dislikes\",\"comment_count\"], rotation=45);\n"
      ],
      "metadata": {
        "colab": {
          "base_uri": "https://localhost:8080/",
          "height": 323
        },
        "id": "TkXBDMHVJmXw",
        "outputId": "769f1cf1-1af0-41c0-f8ab-683006d0af5e"
      },
      "execution_count": 26,
      "outputs": [
        {
          "output_type": "display_data",
          "data": {
            "text/plain": [
              "<Figure size 432x288 with 2 Axes>"
            ],
            "image/png": "[encoded data removed]"
          },
          "metadata": {
            "needs_background": "light"
          }
        }
      ]
    }
  ]
}